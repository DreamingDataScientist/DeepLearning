{
 "cells": [
  {
   "cell_type": "markdown",
   "metadata": {},
   "source": [
    "### 인공지능\n",
    "- 관념적으로 컴퓨터가 인간이 사고를 모방하는 것\n",
    "- 기계가 인간처럼 사고하고 행동하게 하는 것\n",
    "\n",
    "### 머신러닝\n",
    "- 주어진 데이터를 통해 컴퓨터가 스스로 학습하는 것\n",
    "- 학습 : 데이터를 입력해서 패턴을 분석하는 과정\n",
    "\n",
    "### 딥러닝\n",
    "- 인공신경망을 이용해서 컴퓨터가 스스로 학습하는 것\n",
    "- 인공신경망 : 인간의 뇌의 동작 방식을 착안해서 만듦\n",
    "- 2012년 ImageNet에 제공하는 1000개의 카테고리에서 분류된 100만개의 이미지를 인식하여 정확성을 겨루는 ILSVRC라는 이미지 인식대회에서 84.7%라는 인식률 달성. 그 전에는 75%였지만 현재는 97%에 육박할 정도\n",
    "- 인공신경망은 이미 1940년대 부터 연구되던 기술\n",
    "- 빅데이터와 GPGU의 발전, 수백만에서 수조개로 이뤄진 아주 간단한 수식을 수천번 이상해야하는 딥러닝 알고리즘의 발명 덕택에 급격히 발전되고 있음\n",
    "- 텐서플로우는 머신러닝 프로그램, 특히 딥러닝 프로그램을 아주 쉽게 구현할 수 있도록 다양한 기능을 제공하는 머신러닝 라이브러리 구글에서 제작하고 배포하고 있음\n",
    "- 케라스, 카페, 토치, mxnet, 체이너, cntk\n",
    "- 텐서플로우를 좀 더 사용하기 쉽게 만들어주는 보조 라이브러리\n",
    "- https://www.tensorflow.org/\n",
    "- http://tykimos.github.io/2017/01/27/MLP_Layer_Talk"
   ]
  },
  {
   "cell_type": "code",
   "execution_count": 6,
   "metadata": {},
   "outputs": [
    {
     "name": "stdout",
     "output_type": "stream",
     "text": [
      "1.6.0\n"
     ]
    }
   ],
   "source": [
    "import tensorflow as tf\n",
    "\n",
    "print(tf.__version__)"
   ]
  },
  {
   "cell_type": "code",
   "execution_count": 11,
   "metadata": {},
   "outputs": [
    {
     "name": "stdout",
     "output_type": "stream",
     "text": [
      "b'Hello, TensorFlow!!!'\n"
     ]
    }
   ],
   "source": [
    "hello = tf.constant('Hello, TensorFlow!!!')\n",
    "sess = tf.Session() #텐서플로우 작업 생성\n",
    "print(sess.run(hello)) #텐서플로우 작업 실행"
   ]
  },
  {
   "cell_type": "markdown",
   "metadata": {},
   "source": [
    "#### 딥러닝을 구동하는 필요한 케라스 함수를 불러옴"
   ]
  },
  {
   "cell_type": "code",
   "execution_count": 24,
   "metadata": {},
   "outputs": [],
   "source": [
    "from keras.layers import Dense\n",
    "from keras.models import Sequential"
   ]
  },
  {
   "cell_type": "markdown",
   "metadata": {},
   "source": [
    "#### 머신러닝 관련 라이브러리 불러옴"
   ]
  },
  {
   "cell_type": "code",
   "execution_count": 13,
   "metadata": {},
   "outputs": [],
   "source": [
    "import numpy as np\n",
    "import tensorflow as tf"
   ]
  },
  {
   "cell_type": "markdown",
   "metadata": {},
   "source": [
    "### 딥러닝 간단 예제\n",
    "> ** 수술 생존확률 **\n",
    "- 2013년 폴란드 브로츠와프 의과대학\n",
    "- 폐암환자의 수술전 진단정보와 수술후 생존 여부"
   ]
  },
  {
   "cell_type": "markdown",
   "metadata": {},
   "source": [
    "#### 난수 생성을 위한 초기화"
   ]
  },
  {
   "cell_type": "code",
   "execution_count": 14,
   "metadata": {},
   "outputs": [],
   "source": [
    "seed = 9563\n",
    "np.random.seed(seed)\n",
    "tf.set_random_seed(seed)"
   ]
  },
  {
   "cell_type": "markdown",
   "metadata": {},
   "source": [
    "#### 준비된 환자 정보를 불러옴\n",
    "- 종양유형, 폐활량, 호흡곤란여부, 고통정도, 기침, 흡연, 천식여부"
   ]
  },
  {
   "cell_type": "code",
   "execution_count": 16,
   "metadata": {},
   "outputs": [
    {
     "data": {
      "text/plain": [
       "array([[ 293.  ,    1.  ,    3.8 , ...,    0.  ,   62.  ,    0.  ],\n",
       "       [   1.  ,    2.  ,    2.88, ...,    0.  ,   60.  ,    0.  ],\n",
       "       [   8.  ,    2.  ,    3.19, ...,    0.  ,   66.  ,    1.  ],\n",
       "       ..., \n",
       "       [ 406.  ,    6.  ,    5.36, ...,    0.  ,   62.  ,    0.  ],\n",
       "       [  25.  ,    8.  ,    4.32, ...,    0.  ,   58.  ,    1.  ],\n",
       "       [ 447.  ,    8.  ,    5.2 , ...,    0.  ,   49.  ,    0.  ]])"
      ]
     },
     "execution_count": 16,
     "metadata": {},
     "output_type": "execute_result"
    }
   ],
   "source": [
    "data_set = np.loadtxt('C:/Java/딥러닝/ThoraricSurgery.csv', delimiter=',')\n",
    "\n",
    "data_set"
   ]
  },
  {
   "cell_type": "markdown",
   "metadata": {},
   "source": [
    "환자 기록과 수술기록 결과를 x,y로 구분해서 적용"
   ]
  },
  {
   "cell_type": "code",
   "execution_count": 17,
   "metadata": {},
   "outputs": [],
   "source": [
    "x = data_set[:, 0:17]\n",
    "y = data_set[:, 17]"
   ]
  },
  {
   "cell_type": "markdown",
   "metadata": {},
   "source": [
    "딥러닝 실행 방식을 결정 (모델 설정 및 실행방법 정의) <br>\n",
    "입력데이터는 17, 은닉층 갯수는 30, 적용 알고리즘 함수는 relu"
   ]
  },
  {
   "cell_type": "code",
   "execution_count": 25,
   "metadata": {},
   "outputs": [],
   "source": [
    "model = Sequential()\n",
    "model.add(Dense(30, input_dim=17, activation='relu'))"
   ]
  },
  {
   "cell_type": "markdown",
   "metadata": {},
   "source": [
    "출력데이터는 1, 적용 알고리즘 함수는 sigmoid"
   ]
  },
  {
   "cell_type": "code",
   "execution_count": 26,
   "metadata": {},
   "outputs": [],
   "source": [
    "model.add(Dense(1, activation='sigmoid'))"
   ]
  },
  {
   "cell_type": "markdown",
   "metadata": {},
   "source": [
    "#### 딥러닝 실행\n",
    "- loss는 오차값 추적 방식, optimizer는 오차 수정 함수"
   ]
  },
  {
   "cell_type": "code",
   "execution_count": 27,
   "metadata": {},
   "outputs": [
    {
     "name": "stdout",
     "output_type": "stream",
     "text": [
      "Epoch 1/30\n",
      "470/470 [==============================] - 0s 1ms/step - loss: 0.2981 - acc: 0.6809\n",
      "Epoch 2/30\n",
      "470/470 [==============================] - 0s 83us/step - loss: 0.1489 - acc: 0.8511\n",
      "Epoch 3/30\n",
      "470/470 [==============================] - 0s 89us/step - loss: 0.1489 - acc: 0.8511\n",
      "Epoch 4/30\n",
      "470/470 [==============================] - 0s 89us/step - loss: 0.1488 - acc: 0.8511\n",
      "Epoch 5/30\n",
      "470/470 [==============================] - 0s 79us/step - loss: 0.1488 - acc: 0.8511\n",
      "Epoch 6/30\n",
      "470/470 [==============================] - 0s 81us/step - loss: 0.1487 - acc: 0.8511\n",
      "Epoch 7/30\n",
      "470/470 [==============================] - 0s 81us/step - loss: 0.1484 - acc: 0.8511\n",
      "Epoch 8/30\n",
      "470/470 [==============================] - 0s 74us/step - loss: 0.1471 - acc: 0.8511\n",
      "Epoch 9/30\n",
      "470/470 [==============================] - 0s 74us/step - loss: 0.1462 - acc: 0.8511\n",
      "Epoch 10/30\n",
      "470/470 [==============================] - 0s 79us/step - loss: 0.1474 - acc: 0.8426\n",
      "Epoch 11/30\n",
      "470/470 [==============================] - 0s 74us/step - loss: 0.1489 - acc: 0.8511\n",
      "Epoch 12/30\n",
      "470/470 [==============================] - 0s 74us/step - loss: 0.1489 - acc: 0.8511\n",
      "Epoch 13/30\n",
      "470/470 [==============================] - 0s 72us/step - loss: 0.1489 - acc: 0.8511\n",
      "Epoch 14/30\n",
      "470/470 [==============================] - 0s 77us/step - loss: 0.1489 - acc: 0.8511\n",
      "Epoch 15/30\n",
      "470/470 [==============================] - 0s 79us/step - loss: 0.1488 - acc: 0.8511\n",
      "Epoch 16/30\n",
      "470/470 [==============================] - 0s 72us/step - loss: 0.1488 - acc: 0.8511\n",
      "Epoch 17/30\n",
      "470/470 [==============================] - 0s 74us/step - loss: 0.1486 - acc: 0.8511\n",
      "Epoch 18/30\n",
      "470/470 [==============================] - 0s 74us/step - loss: 0.1474 - acc: 0.8511\n",
      "Epoch 19/30\n",
      "470/470 [==============================] - 0s 79us/step - loss: 0.1470 - acc: 0.8511\n",
      "Epoch 20/30\n",
      "470/470 [==============================] - 0s 74us/step - loss: 0.1489 - acc: 0.8489\n",
      "Epoch 21/30\n",
      "470/470 [==============================] - 0s 79us/step - loss: 0.1467 - acc: 0.8489\n",
      "Epoch 22/30\n",
      "470/470 [==============================] - 0s 72us/step - loss: 0.1463 - acc: 0.8489\n",
      "Epoch 23/30\n",
      "470/470 [==============================] - 0s 68us/step - loss: 0.1444 - acc: 0.8511\n",
      "Epoch 24/30\n",
      "470/470 [==============================] - 0s 72us/step - loss: 0.1479 - acc: 0.8489\n",
      "Epoch 25/30\n",
      "470/470 [==============================] - 0s 74us/step - loss: 0.1465 - acc: 0.8468\n",
      "Epoch 26/30\n",
      "470/470 [==============================] - 0s 72us/step - loss: 0.1486 - acc: 0.8511\n",
      "Epoch 27/30\n",
      "470/470 [==============================] - 0s 72us/step - loss: 0.1481 - acc: 0.8511\n",
      "Epoch 28/30\n",
      "470/470 [==============================] - 0s 74us/step - loss: 0.1465 - acc: 0.8489\n",
      "Epoch 29/30\n",
      "470/470 [==============================] - 0s 72us/step - loss: 0.1436 - acc: 0.8511\n",
      "Epoch 30/30\n",
      "470/470 [==============================] - 0s 79us/step - loss: 0.1450 - acc: 0.8468\n"
     ]
    },
    {
     "data": {
      "text/plain": [
       "<keras.callbacks.History at 0xce50da0>"
      ]
     },
     "execution_count": 27,
     "metadata": {},
     "output_type": "execute_result"
    }
   ],
   "source": [
    "model.compile(loss='mean_squared_error', optimizer='adam', metrics=['accuracy'])\n",
    "model.fit(x,y, epochs=30, batch_size=10)"
   ]
  },
  {
   "cell_type": "markdown",
   "metadata": {},
   "source": [
    "#### 결과 검증 및 출력"
   ]
  },
  {
   "cell_type": "code",
   "execution_count": 28,
   "metadata": {},
   "outputs": [
    {
     "name": "stdout",
     "output_type": "stream",
     "text": [
      "470/470 [==============================] - 0s 47us/step\n",
      "정확도 : 0.8511\n"
     ]
    }
   ],
   "source": [
    "print('정확도 : %.4f' % (model.evaluate(x,y)[1]))"
   ]
  },
  {
   "cell_type": "markdown",
   "metadata": {},
   "source": [
    "> ** 인공신경망 구동 예제 **\n",
    "- 변수 3개로 인공신경망 알고리즘 이용\n",
    "- 가중치 : 예상하지 못한 변수를 말하며 변수에 가중치를 넣어야 함.\n",
    "- 0과 1로 결론을 내는 것이 아니라 어느 결론이 더 확률적으로 높은지 가중치를 넣어야 한다."
   ]
  },
  {
   "cell_type": "code",
   "execution_count": 36,
   "metadata": {},
   "outputs": [
    {
     "data": {
      "text/plain": [
       "1.55"
      ]
     },
     "execution_count": 36,
     "metadata": {},
     "output_type": "execute_result"
    }
   ],
   "source": [
    "X1 = {'여친에게 데이터 요청 전화 옴' : 0.5}\n",
    "W1 = {'여친을 너무 좋아함' : 7} #가중치.\n",
    "W1 = {'여친과 냉전상태 : 0.1'} #가중치.\n",
    "\n",
    "X2 = {'지금 밖에는 눈이 온다' :0.3 }\n",
    "W2 = {'눈이 좋아 : 5'} #가중치. \n",
    "W2 = {'눈이 싫어 : 1'} #가중치.\n",
    "\n",
    "X3 = '난 지금 점심을 안먹었는데...'\n",
    "W3 = '난 배고픈거 싫어'\n",
    "W3 = '여친을 만나 맛있는거 먹고싶다'\n",
    "\n",
    "Y1 = {0 : '0은 그냥 집에있는다.', 1 : '1은 데이트하러 나간다'} \n",
    "\n",
    "#X1*W1 + X2*W2 \n",
    "0.5 * 0.1 + 0.3 * 5 #=0.35이기 때문에 그냥 집에 있을 확률이 더 놓다. "
   ]
  }
 ],
 "metadata": {
  "kernelspec": {
   "display_name": "Python 3",
   "language": "python",
   "name": "python3"
  },
  "language_info": {
   "codemirror_mode": {
    "name": "ipython",
    "version": 3
   },
   "file_extension": ".py",
   "mimetype": "text/x-python",
   "name": "python",
   "nbconvert_exporter": "python",
   "pygments_lexer": "ipython3",
   "version": "3.6.3"
  }
 },
 "nbformat": 4,
 "nbformat_minor": 2
}
